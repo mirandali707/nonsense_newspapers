{
 "cells": [
  {
   "cell_type": "markdown",
   "metadata": {},
   "source": [
    "# populating initial list of pages"
   ]
  },
  {
   "cell_type": "code",
   "execution_count": 6,
   "metadata": {},
   "outputs": [],
   "source": [
    "TEMPLATE = {\n",
    "    'page_num': 0, # int, page number\n",
    "    'gen_href': 'path_to_generated_newspaper',\n",
    "    'edit_href': 'path_to_photoshopped_edit',\n",
    "    'source_notes': 'link to original source, for reference',\n",
    "    'attrib_text': 'text attribution to be displayed',\n",
    "    'alt_text': 'alternative captioning for edited image'\n",
    "}\n",
    "\n",
    "IMAGES_DIR = 'img/zine_imgs/'"
   ]
  },
  {
   "cell_type": "code",
   "execution_count": 26,
   "metadata": {},
   "outputs": [],
   "source": [
    "pages = []"
   ]
  },
  {
   "cell_type": "code",
   "execution_count": 27,
   "metadata": {},
   "outputs": [],
   "source": [
    "pages.append({\n",
    "    'page_num': 1,\n",
    "    'gen_href': IMAGES_DIR + '1_gen_38.jpg',\n",
    "    'edit_href': IMAGES_DIR + '1_anders-nord.png',\n",
    "    'source_notes': 'https://unsplash.com/photos/rsctE9xjoys',\n",
    "    'attrib_text': '<span>Original photo by <a href=\"https://unsplash.com/@annoand?utm_source=unsplash&amp;utm_medium=referral&amp;utm_content=creditCopyText\">Anders Nord</a> on <a href=\"https://unsplash.com/?utm_source=unsplash&amp;utm_medium=referral&amp;utm_content=creditCopyText\">Unsplash</a></span>',\n",
    "    'alt_text': 'old woman in glasses and a beret sitting at a table, reading a fake newspaper'\n",
    "})"
   ]
  },
  {
   "cell_type": "code",
   "execution_count": 28,
   "metadata": {},
   "outputs": [],
   "source": [
    "pages.append({\n",
    "    'page_num': 2,\n",
    "    'gen_href': IMAGES_DIR + '2_gen_71.jpg',\n",
    "    'edit_href': IMAGES_DIR + '2_muhammadtaha-ibrahim-ma-aji.png',\n",
    "    'source_notes': 'https://unsplash.com/photos/cUvR4RLViEQ',\n",
    "    'attrib_text': '<span>Original photo by <a href=\"https://unsplash.com/@planeteelevene?utm_source=unsplash&amp;utm_medium=referral&amp;utm_content=creditCopyText\">Muhammadtaha Ibrahim Ma\\'aji</a> on <a href=\"https://unsplash.com/?utm_source=unsplash&amp;utm_medium=referral&amp;utm_content=creditCopyText\">Unsplash</a></span>',\n",
    "    'alt_text': 'two men reading a fake newspaper'\n",
    "})"
   ]
  },
  {
   "cell_type": "code",
   "execution_count": 29,
   "metadata": {},
   "outputs": [],
   "source": [
    "pages.append({\n",
    "    'page_num': 3,\n",
    "    'gen_href': IMAGES_DIR + '3_gen_39.jpg',\n",
    "    'edit_href': IMAGES_DIR + '3_reynier-carl.png',\n",
    "    'source_notes': 'https://unsplash.com/photos/kqZH-B7IX7o',\n",
    "    'attrib_text': '<span>Original photo by <a href=\"https://unsplash.com/@caarl?utm_source=unsplash&amp;utm_medium=referral&amp;utm_content=creditCopyText\">Reynier Carl</a> on <a href=\"https://unsplash.com/?utm_source=unsplash&amp;utm_medium=referral&amp;utm_content=creditCopyText\">Unsplash</a></span>',\n",
    "    'alt_text': 'first-person view of breakfast on a boat with a fake newspaper'\n",
    "})"
   ]
  },
  {
   "cell_type": "code",
   "execution_count": 30,
   "metadata": {},
   "outputs": [],
   "source": [
    "pages.append({\n",
    "    'page_num': 4,\n",
    "    'gen_href': IMAGES_DIR + '4_gen_33.jpg',\n",
    "    'edit_href': IMAGES_DIR + '4_joanes-andueza.png',\n",
    "    'source_notes': 'https://unsplash.com/photos/SutU8_Hkdic',\n",
    "    'attrib_text': '<span>Original photo by <a href=\"https://unsplash.com/@joanes?utm_source=unsplash&amp;utm_medium=referral&amp;utm_content=creditCopyText\">Joanes Andueza</a> on <a href=\"https://unsplash.com/?utm_source=unsplash&amp;utm_medium=referral&amp;utm_content=creditCopyText\">Unsplash</a></span>',\n",
    "    'alt_text': 'profile view of woman with short hair reading a fake newspaper'\n",
    "})"
   ]
  },
  {
   "cell_type": "code",
   "execution_count": 31,
   "metadata": {},
   "outputs": [],
   "source": [
    "pages.append({\n",
    "    'page_num': 5,\n",
    "    'gen_href': IMAGES_DIR + '5_gen_96.jpg',\n",
    "    'edit_href': IMAGES_DIR + '5_man_reading_paper.png',\n",
    "    'source_notes': 'http://www.pune-design.com/portfolios/newspaper-mockup-freebie/',\n",
    "    'attrib_text': '<span>Photoshop mock-up by <a href=\"http://www.pune-design.com/portfolios/newspaper-mockup-freebie/\">Pune Design</a></span>',\n",
    "    'alt_text': 'man holding and reading fake newspaper'\n",
    "})"
   ]
  },
  {
   "cell_type": "code",
   "execution_count": 32,
   "metadata": {},
   "outputs": [],
   "source": [
    "pages.append({\n",
    "    'page_num': 6,\n",
    "    'gen_href': IMAGES_DIR + '6_gen_89.jpg',\n",
    "    'edit_href': IMAGES_DIR + '6_abolfazl-shaker.png',\n",
    "    'source_notes': 'https://unsplash.com/photos/_u6CTQumae4',\n",
    "    'attrib_text': '<span>Original photo by <a href=\"https://unsplash.com/@obsiidan?utm_source=unsplash&amp;utm_medium=referral&amp;utm_content=creditCopyText\">abolfazl shaker</a> on <a href=\"https://unsplash.com/?utm_source=unsplash&amp;utm_medium=referral&amp;utm_content=creditCopyText\">Unsplash</a></span>',\n",
    "    'alt_text': 'man with a mustache in a brown suit jacket reading fake newspaper'\n",
    "})"
   ]
  },
  {
   "cell_type": "code",
   "execution_count": 33,
   "metadata": {},
   "outputs": [],
   "source": [
    "pages.append({\n",
    "    'page_num': 7,\n",
    "    'gen_href': IMAGES_DIR + '7_gen_17.jpg',\n",
    "    'edit_href': IMAGES_DIR + '7_marcus-wallis.png',\n",
    "    'source_notes': 'https://unsplash.com/photos/RONXmu0UU4s',\n",
    "    'attrib_text': '<span>Original photo by <a href=\"https://unsplash.com/@marcus_wallis?utm_source=unsplash&amp;utm_medium=referral&amp;utm_content=creditCopyText\">Marcus Wallis</a> on <a href=\"https://unsplash.com/?utm_source=unsplash&amp;utm_medium=referral&amp;utm_content=creditCopyText\">Unsplash</a></span>',\n",
    "    'alt_text': 'old man walking on the sidewalk holding a fake newspaper'\n",
    "})"
   ]
  },
  {
   "cell_type": "code",
   "execution_count": 34,
   "metadata": {},
   "outputs": [],
   "source": [
    "pages.append({\n",
    "    'page_num': 8,\n",
    "    'gen_href': IMAGES_DIR + '8_gen_74.jpg',\n",
    "    'edit_href': IMAGES_DIR + '8_eepeng-cheong.png',\n",
    "    'source_notes': 'https://unsplash.com/photos/PPmr3NDxhsM',\n",
    "    'attrib_text': '<span>Original photo by <a href=\"https://unsplash.com/@eepeng?utm_source=unsplash&amp;utm_medium=referral&amp;utm_content=creditCopyText\">Eepeng Cheong</a> on <a href=\"https://unsplash.com/?utm_source=unsplash&amp;utm_medium=referral&amp;utm_content=creditCopyText\">Unsplash</a></span>',\n",
    "    'alt_text': 'old man wearing cap and reading fake newspaper'\n",
    "})"
   ]
  },
  {
   "cell_type": "code",
   "execution_count": null,
   "metadata": {},
   "outputs": [],
   "source": [
    "# pages.append({\n",
    "#     'page_num': 2,\n",
    "#     'gen_href': IMAGES_DIR + 'path_to_generated_newspaper',\n",
    "#     'edit_href': IMAGES_DIR + 'path_to_photoshopped_edit',\n",
    "#     'source_notes': 'link',\n",
    "#     'attrib_text': 'text',\n",
    "#     'alt_text': 'alt'\n",
    "# })"
   ]
  },
  {
   "cell_type": "code",
   "execution_count": 35,
   "metadata": {
    "scrolled": true
   },
   "outputs": [
    {
     "data": {
      "text/plain": [
       "[{'page_num': 1,\n",
       "  'gen_href': 'img/zine_imgs/1_gen_38.jpg',\n",
       "  'edit_href': 'img/zine_imgs/1_anders-nord.png',\n",
       "  'source_notes': 'https://unsplash.com/photos/rsctE9xjoys',\n",
       "  'attrib_text': '<span>Original photo by <a href=\"https://unsplash.com/@annoand?utm_source=unsplash&amp;utm_medium=referral&amp;utm_content=creditCopyText\">Anders Nord</a> on <a href=\"https://unsplash.com/?utm_source=unsplash&amp;utm_medium=referral&amp;utm_content=creditCopyText\">Unsplash</a></span>',\n",
       "  'alt_text': 'old woman in glasses and a beret sitting at a table, reading a fake newspaper'},\n",
       " {'page_num': 2,\n",
       "  'gen_href': 'img/zine_imgs/2_gen_71.jpg',\n",
       "  'edit_href': 'img/zine_imgs/2_muhammadtaha-ibrahim-ma-aji.png',\n",
       "  'source_notes': 'https://unsplash.com/photos/cUvR4RLViEQ',\n",
       "  'attrib_text': '<span>Original photo by <a href=\"https://unsplash.com/@planeteelevene?utm_source=unsplash&amp;utm_medium=referral&amp;utm_content=creditCopyText\">Muhammadtaha Ibrahim Ma\\'aji</a> on <a href=\"https://unsplash.com/?utm_source=unsplash&amp;utm_medium=referral&amp;utm_content=creditCopyText\">Unsplash</a></span>',\n",
       "  'alt_text': 'two men reading a fake newspaper'},\n",
       " {'page_num': 3,\n",
       "  'gen_href': 'img/zine_imgs/3_gen_39.jpg',\n",
       "  'edit_href': 'img/zine_imgs/3_reynier-carl.png',\n",
       "  'source_notes': 'https://unsplash.com/photos/kqZH-B7IX7o',\n",
       "  'attrib_text': '<span>Original photo by <a href=\"https://unsplash.com/@caarl?utm_source=unsplash&amp;utm_medium=referral&amp;utm_content=creditCopyText\">Reynier Carl</a> on <a href=\"https://unsplash.com/?utm_source=unsplash&amp;utm_medium=referral&amp;utm_content=creditCopyText\">Unsplash</a></span>',\n",
       "  'alt_text': 'first-person view of breakfast on a boat with a fake newspaper'},\n",
       " {'page_num': 4,\n",
       "  'gen_href': 'img/zine_imgs/4_gen_33.jpg',\n",
       "  'edit_href': 'img/zine_imgs/4_joanes-andueza.png',\n",
       "  'source_notes': 'https://unsplash.com/photos/SutU8_Hkdic',\n",
       "  'attrib_text': '<span>Original photo by <a href=\"https://unsplash.com/@joanes?utm_source=unsplash&amp;utm_medium=referral&amp;utm_content=creditCopyText\">Joanes Andueza</a> on <a href=\"https://unsplash.com/?utm_source=unsplash&amp;utm_medium=referral&amp;utm_content=creditCopyText\">Unsplash</a></span>',\n",
       "  'alt_text': 'profile view of woman with short hair reading a fake newspaper'},\n",
       " {'page_num': 5,\n",
       "  'gen_href': 'img/zine_imgs/5_gen_96.jpg',\n",
       "  'edit_href': 'img/zine_imgs/5_man_reading_paper.png',\n",
       "  'source_notes': 'http://www.pune-design.com/portfolios/newspaper-mockup-freebie/',\n",
       "  'attrib_text': '<span>Photoshop mock-up by <a href=\"http://www.pune-design.com/portfolios/newspaper-mockup-freebie/\">Pune Design</a></span>',\n",
       "  'alt_text': 'man holding and reading fake newspaper'},\n",
       " {'page_num': 6,\n",
       "  'gen_href': 'img/zine_imgs/6_gen_89.jpg',\n",
       "  'edit_href': 'img/zine_imgs/6_abolfazl-shaker.png',\n",
       "  'source_notes': 'https://unsplash.com/photos/_u6CTQumae4',\n",
       "  'attrib_text': '<span>Original photo by <a href=\"https://unsplash.com/@obsiidan?utm_source=unsplash&amp;utm_medium=referral&amp;utm_content=creditCopyText\">abolfazl shaker</a> on <a href=\"https://unsplash.com/?utm_source=unsplash&amp;utm_medium=referral&amp;utm_content=creditCopyText\">Unsplash</a></span>',\n",
       "  'alt_text': 'man with a mustache in a brown suit jacket reading fake newspaper'},\n",
       " {'page_num': 7,\n",
       "  'gen_href': 'img/zine_imgs/7_gen_17.jpg',\n",
       "  'edit_href': 'img/zine_imgs/7_marcus-wallis.png',\n",
       "  'source_notes': 'https://unsplash.com/photos/RONXmu0UU4s',\n",
       "  'attrib_text': '<span>Original photo by <a href=\"https://unsplash.com/@marcus_wallis?utm_source=unsplash&amp;utm_medium=referral&amp;utm_content=creditCopyText\">Marcus Wallis</a> on <a href=\"https://unsplash.com/?utm_source=unsplash&amp;utm_medium=referral&amp;utm_content=creditCopyText\">Unsplash</a></span>',\n",
       "  'alt_text': 'old man walking on the sidewalk holding a fake newspaper'},\n",
       " {'page_num': 8,\n",
       "  'gen_href': 'img/zine_imgs/8_gen_74.jpg',\n",
       "  'edit_href': 'img/zine_imgs/8_eepeng-cheong.png',\n",
       "  'source_notes': 'https://unsplash.com/photos/PPmr3NDxhsM',\n",
       "  'attrib_text': '<span>Original photo by <a href=\"https://unsplash.com/@eepeng?utm_source=unsplash&amp;utm_medium=referral&amp;utm_content=creditCopyText\">Eepeng Cheong</a> on <a href=\"https://unsplash.com/?utm_source=unsplash&amp;utm_medium=referral&amp;utm_content=creditCopyText\">Unsplash</a></span>',\n",
       "  'alt_text': 'old man wearing cap and reading fake newspaper'}]"
      ]
     },
     "execution_count": 35,
     "metadata": {},
     "output_type": "execute_result"
    }
   ],
   "source": [
    "pages"
   ]
  },
  {
   "cell_type": "markdown",
   "metadata": {},
   "source": [
    "# postprocessing of attrib_text elems (removing html tags)"
   ]
  },
  {
   "cell_type": "code",
   "execution_count": 38,
   "metadata": {},
   "outputs": [],
   "source": [
    "def remove_span_tags(html_string):\n",
    "    return html_string[6:-7]"
   ]
  },
  {
   "cell_type": "code",
   "execution_count": 40,
   "metadata": {},
   "outputs": [],
   "source": [
    "for page in pages:\n",
    "    page['attrib_text'] = remove_span_tags(page['attrib_text'])"
   ]
  },
  {
   "cell_type": "code",
   "execution_count": 41,
   "metadata": {
    "scrolled": true
   },
   "outputs": [
    {
     "data": {
      "text/plain": [
       "[{'page_num': 1,\n",
       "  'gen_href': 'img/zine_imgs/1_gen_38.jpg',\n",
       "  'edit_href': 'img/zine_imgs/1_anders-nord.png',\n",
       "  'source_notes': 'https://unsplash.com/photos/rsctE9xjoys',\n",
       "  'attrib_text': 'Original photo by <a href=\"https://unsplash.com/@annoand?utm_source=unsplash&amp;utm_medium=referral&amp;utm_content=creditCopyText\">Anders Nord</a> on <a href=\"https://unsplash.com/?utm_source=unsplash&amp;utm_medium=referral&amp;utm_content=creditCopyText\">Unsplash</a>',\n",
       "  'alt_text': 'old woman in glasses and a beret sitting at a table, reading a fake newspaper'},\n",
       " {'page_num': 2,\n",
       "  'gen_href': 'img/zine_imgs/2_gen_71.jpg',\n",
       "  'edit_href': 'img/zine_imgs/2_muhammadtaha-ibrahim-ma-aji.png',\n",
       "  'source_notes': 'https://unsplash.com/photos/cUvR4RLViEQ',\n",
       "  'attrib_text': 'Original photo by <a href=\"https://unsplash.com/@planeteelevene?utm_source=unsplash&amp;utm_medium=referral&amp;utm_content=creditCopyText\">Muhammadtaha Ibrahim Ma\\'aji</a> on <a href=\"https://unsplash.com/?utm_source=unsplash&amp;utm_medium=referral&amp;utm_content=creditCopyText\">Unsplash</a>',\n",
       "  'alt_text': 'two men reading a fake newspaper'},\n",
       " {'page_num': 3,\n",
       "  'gen_href': 'img/zine_imgs/3_gen_39.jpg',\n",
       "  'edit_href': 'img/zine_imgs/3_reynier-carl.png',\n",
       "  'source_notes': 'https://unsplash.com/photos/kqZH-B7IX7o',\n",
       "  'attrib_text': 'Original photo by <a href=\"https://unsplash.com/@caarl?utm_source=unsplash&amp;utm_medium=referral&amp;utm_content=creditCopyText\">Reynier Carl</a> on <a href=\"https://unsplash.com/?utm_source=unsplash&amp;utm_medium=referral&amp;utm_content=creditCopyText\">Unsplash</a>',\n",
       "  'alt_text': 'first-person view of breakfast on a boat with a fake newspaper'},\n",
       " {'page_num': 4,\n",
       "  'gen_href': 'img/zine_imgs/4_gen_33.jpg',\n",
       "  'edit_href': 'img/zine_imgs/4_joanes-andueza.png',\n",
       "  'source_notes': 'https://unsplash.com/photos/SutU8_Hkdic',\n",
       "  'attrib_text': 'Original photo by <a href=\"https://unsplash.com/@joanes?utm_source=unsplash&amp;utm_medium=referral&amp;utm_content=creditCopyText\">Joanes Andueza</a> on <a href=\"https://unsplash.com/?utm_source=unsplash&amp;utm_medium=referral&amp;utm_content=creditCopyText\">Unsplash</a>',\n",
       "  'alt_text': 'profile view of woman with short hair reading a fake newspaper'},\n",
       " {'page_num': 5,\n",
       "  'gen_href': 'img/zine_imgs/5_gen_96.jpg',\n",
       "  'edit_href': 'img/zine_imgs/5_man_reading_paper.png',\n",
       "  'source_notes': 'http://www.pune-design.com/portfolios/newspaper-mockup-freebie/',\n",
       "  'attrib_text': 'Photoshop mock-up by <a href=\"http://www.pune-design.com/portfolios/newspaper-mockup-freebie/\">Pune Design</a>',\n",
       "  'alt_text': 'man holding and reading fake newspaper'},\n",
       " {'page_num': 6,\n",
       "  'gen_href': 'img/zine_imgs/6_gen_89.jpg',\n",
       "  'edit_href': 'img/zine_imgs/6_abolfazl-shaker.png',\n",
       "  'source_notes': 'https://unsplash.com/photos/_u6CTQumae4',\n",
       "  'attrib_text': 'Original photo by <a href=\"https://unsplash.com/@obsiidan?utm_source=unsplash&amp;utm_medium=referral&amp;utm_content=creditCopyText\">abolfazl shaker</a> on <a href=\"https://unsplash.com/?utm_source=unsplash&amp;utm_medium=referral&amp;utm_content=creditCopyText\">Unsplash</a>',\n",
       "  'alt_text': 'man with a mustache in a brown suit jacket reading fake newspaper'},\n",
       " {'page_num': 7,\n",
       "  'gen_href': 'img/zine_imgs/7_gen_17.jpg',\n",
       "  'edit_href': 'img/zine_imgs/7_marcus-wallis.png',\n",
       "  'source_notes': 'https://unsplash.com/photos/RONXmu0UU4s',\n",
       "  'attrib_text': 'Original photo by <a href=\"https://unsplash.com/@marcus_wallis?utm_source=unsplash&amp;utm_medium=referral&amp;utm_content=creditCopyText\">Marcus Wallis</a> on <a href=\"https://unsplash.com/?utm_source=unsplash&amp;utm_medium=referral&amp;utm_content=creditCopyText\">Unsplash</a>',\n",
       "  'alt_text': 'old man walking on the sidewalk holding a fake newspaper'},\n",
       " {'page_num': 8,\n",
       "  'gen_href': 'img/zine_imgs/8_gen_74.jpg',\n",
       "  'edit_href': 'img/zine_imgs/8_eepeng-cheong.png',\n",
       "  'source_notes': 'https://unsplash.com/photos/PPmr3NDxhsM',\n",
       "  'attrib_text': 'Original photo by <a href=\"https://unsplash.com/@eepeng?utm_source=unsplash&amp;utm_medium=referral&amp;utm_content=creditCopyText\">Eepeng Cheong</a> on <a href=\"https://unsplash.com/?utm_source=unsplash&amp;utm_medium=referral&amp;utm_content=creditCopyText\">Unsplash</a>',\n",
       "  'alt_text': 'old man wearing cap and reading fake newspaper'}]"
      ]
     },
     "execution_count": 41,
     "metadata": {},
     "output_type": "execute_result"
    }
   ],
   "source": [
    "pages"
   ]
  },
  {
   "cell_type": "markdown",
   "metadata": {},
   "source": [
    "# reformatting to dictionary {page_number : page object}"
   ]
  },
  {
   "cell_type": "code",
   "execution_count": 43,
   "metadata": {},
   "outputs": [],
   "source": [
    "zine_dict = {}\n",
    "for page in pages:\n",
    "    zine_dict[page['page_num']] = page"
   ]
  },
  {
   "cell_type": "code",
   "execution_count": 44,
   "metadata": {
    "scrolled": true
   },
   "outputs": [
    {
     "data": {
      "text/plain": [
       "{1: {'page_num': 1,\n",
       "  'gen_href': 'img/zine_imgs/1_gen_38.jpg',\n",
       "  'edit_href': 'img/zine_imgs/1_anders-nord.png',\n",
       "  'source_notes': 'https://unsplash.com/photos/rsctE9xjoys',\n",
       "  'attrib_text': 'Original photo by <a href=\"https://unsplash.com/@annoand?utm_source=unsplash&amp;utm_medium=referral&amp;utm_content=creditCopyText\">Anders Nord</a> on <a href=\"https://unsplash.com/?utm_source=unsplash&amp;utm_medium=referral&amp;utm_content=creditCopyText\">Unsplash</a>',\n",
       "  'alt_text': 'old woman in glasses and a beret sitting at a table, reading a fake newspaper'},\n",
       " 2: {'page_num': 2,\n",
       "  'gen_href': 'img/zine_imgs/2_gen_71.jpg',\n",
       "  'edit_href': 'img/zine_imgs/2_muhammadtaha-ibrahim-ma-aji.png',\n",
       "  'source_notes': 'https://unsplash.com/photos/cUvR4RLViEQ',\n",
       "  'attrib_text': 'Original photo by <a href=\"https://unsplash.com/@planeteelevene?utm_source=unsplash&amp;utm_medium=referral&amp;utm_content=creditCopyText\">Muhammadtaha Ibrahim Ma\\'aji</a> on <a href=\"https://unsplash.com/?utm_source=unsplash&amp;utm_medium=referral&amp;utm_content=creditCopyText\">Unsplash</a>',\n",
       "  'alt_text': 'two men reading a fake newspaper'},\n",
       " 3: {'page_num': 3,\n",
       "  'gen_href': 'img/zine_imgs/3_gen_39.jpg',\n",
       "  'edit_href': 'img/zine_imgs/3_reynier-carl.png',\n",
       "  'source_notes': 'https://unsplash.com/photos/kqZH-B7IX7o',\n",
       "  'attrib_text': 'Original photo by <a href=\"https://unsplash.com/@caarl?utm_source=unsplash&amp;utm_medium=referral&amp;utm_content=creditCopyText\">Reynier Carl</a> on <a href=\"https://unsplash.com/?utm_source=unsplash&amp;utm_medium=referral&amp;utm_content=creditCopyText\">Unsplash</a>',\n",
       "  'alt_text': 'first-person view of breakfast on a boat with a fake newspaper'},\n",
       " 4: {'page_num': 4,\n",
       "  'gen_href': 'img/zine_imgs/4_gen_33.jpg',\n",
       "  'edit_href': 'img/zine_imgs/4_joanes-andueza.png',\n",
       "  'source_notes': 'https://unsplash.com/photos/SutU8_Hkdic',\n",
       "  'attrib_text': 'Original photo by <a href=\"https://unsplash.com/@joanes?utm_source=unsplash&amp;utm_medium=referral&amp;utm_content=creditCopyText\">Joanes Andueza</a> on <a href=\"https://unsplash.com/?utm_source=unsplash&amp;utm_medium=referral&amp;utm_content=creditCopyText\">Unsplash</a>',\n",
       "  'alt_text': 'profile view of woman with short hair reading a fake newspaper'},\n",
       " 5: {'page_num': 5,\n",
       "  'gen_href': 'img/zine_imgs/5_gen_96.jpg',\n",
       "  'edit_href': 'img/zine_imgs/5_man_reading_paper.png',\n",
       "  'source_notes': 'http://www.pune-design.com/portfolios/newspaper-mockup-freebie/',\n",
       "  'attrib_text': 'Photoshop mock-up by <a href=\"http://www.pune-design.com/portfolios/newspaper-mockup-freebie/\">Pune Design</a>',\n",
       "  'alt_text': 'man holding and reading fake newspaper'},\n",
       " 6: {'page_num': 6,\n",
       "  'gen_href': 'img/zine_imgs/6_gen_89.jpg',\n",
       "  'edit_href': 'img/zine_imgs/6_abolfazl-shaker.png',\n",
       "  'source_notes': 'https://unsplash.com/photos/_u6CTQumae4',\n",
       "  'attrib_text': 'Original photo by <a href=\"https://unsplash.com/@obsiidan?utm_source=unsplash&amp;utm_medium=referral&amp;utm_content=creditCopyText\">abolfazl shaker</a> on <a href=\"https://unsplash.com/?utm_source=unsplash&amp;utm_medium=referral&amp;utm_content=creditCopyText\">Unsplash</a>',\n",
       "  'alt_text': 'man with a mustache in a brown suit jacket reading fake newspaper'},\n",
       " 7: {'page_num': 7,\n",
       "  'gen_href': 'img/zine_imgs/7_gen_17.jpg',\n",
       "  'edit_href': 'img/zine_imgs/7_marcus-wallis.png',\n",
       "  'source_notes': 'https://unsplash.com/photos/RONXmu0UU4s',\n",
       "  'attrib_text': 'Original photo by <a href=\"https://unsplash.com/@marcus_wallis?utm_source=unsplash&amp;utm_medium=referral&amp;utm_content=creditCopyText\">Marcus Wallis</a> on <a href=\"https://unsplash.com/?utm_source=unsplash&amp;utm_medium=referral&amp;utm_content=creditCopyText\">Unsplash</a>',\n",
       "  'alt_text': 'old man walking on the sidewalk holding a fake newspaper'},\n",
       " 8: {'page_num': 8,\n",
       "  'gen_href': 'img/zine_imgs/8_gen_74.jpg',\n",
       "  'edit_href': 'img/zine_imgs/8_eepeng-cheong.png',\n",
       "  'source_notes': 'https://unsplash.com/photos/PPmr3NDxhsM',\n",
       "  'attrib_text': 'Original photo by <a href=\"https://unsplash.com/@eepeng?utm_source=unsplash&amp;utm_medium=referral&amp;utm_content=creditCopyText\">Eepeng Cheong</a> on <a href=\"https://unsplash.com/?utm_source=unsplash&amp;utm_medium=referral&amp;utm_content=creditCopyText\">Unsplash</a>',\n",
       "  'alt_text': 'old man wearing cap and reading fake newspaper'}}"
      ]
     },
     "execution_count": 44,
     "metadata": {},
     "output_type": "execute_result"
    }
   ],
   "source": [
    "zine_dict"
   ]
  },
  {
   "cell_type": "code",
   "execution_count": 48,
   "metadata": {},
   "outputs": [
    {
     "data": {
      "text/plain": [
       "{'page_num': 1,\n",
       " 'gen_href': 'img/zine_imgs/1_gen_38.jpg',\n",
       " 'edit_href': 'img/zine_imgs/1_anders-nord.png',\n",
       " 'source_notes': 'https://unsplash.com/photos/rsctE9xjoys',\n",
       " 'attrib_text': 'Original photo by <a href=\"https://unsplash.com/@annoand?utm_source=unsplash&amp;utm_medium=referral&amp;utm_content=creditCopyText\">Anders Nord</a> on <a href=\"https://unsplash.com/?utm_source=unsplash&amp;utm_medium=referral&amp;utm_content=creditCopyText\">Unsplash</a>',\n",
       " 'alt_text': 'old woman in glasses and a beret sitting at a table, reading a fake newspaper'}"
      ]
     },
     "execution_count": 48,
     "metadata": {},
     "output_type": "execute_result"
    }
   ],
   "source": [
    "zine_dict[1]"
   ]
  },
  {
   "cell_type": "markdown",
   "metadata": {},
   "source": [
    "# saving as JSON"
   ]
  },
  {
   "cell_type": "code",
   "execution_count": 46,
   "metadata": {},
   "outputs": [],
   "source": [
    "import json"
   ]
  },
  {
   "cell_type": "code",
   "execution_count": 50,
   "metadata": {},
   "outputs": [],
   "source": [
    "with open('zine_pages.txt', 'w') as json_file:\n",
    "    json.dump(zine_dict, json_file, indent=4)"
   ]
  },
  {
   "cell_type": "code",
   "execution_count": null,
   "metadata": {},
   "outputs": [],
   "source": []
  }
 ],
 "metadata": {
  "kernelspec": {
   "display_name": "Python 3",
   "language": "python",
   "name": "python3"
  },
  "language_info": {
   "codemirror_mode": {
    "name": "ipython",
    "version": 3
   },
   "file_extension": ".py",
   "mimetype": "text/x-python",
   "name": "python",
   "nbconvert_exporter": "python",
   "pygments_lexer": "ipython3",
   "version": "3.7.6"
  }
 },
 "nbformat": 4,
 "nbformat_minor": 4
}
